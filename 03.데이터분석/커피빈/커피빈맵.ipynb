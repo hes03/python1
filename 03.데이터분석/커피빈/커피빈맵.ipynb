{
 "cells": [
  {
   "cell_type": "code",
   "execution_count": 74,
   "id": "07325c8f",
   "metadata": {},
   "outputs": [],
   "source": [
    "import pandas as pd"
   ]
  },
  {
   "cell_type": "code",
   "execution_count": 75,
   "id": "06e8b56d",
   "metadata": {},
   "outputs": [
    {
     "data": {
      "text/html": [
       "<div>\n",
       "<style scoped>\n",
       "    .dataframe tbody tr th:only-of-type {\n",
       "        vertical-align: middle;\n",
       "    }\n",
       "\n",
       "    .dataframe tbody tr th {\n",
       "        vertical-align: top;\n",
       "    }\n",
       "\n",
       "    .dataframe thead th {\n",
       "        text-align: right;\n",
       "    }\n",
       "</style>\n",
       "<table border=\"1\" class=\"dataframe\">\n",
       "  <thead>\n",
       "    <tr style=\"text-align: right;\">\n",
       "      <th></th>\n",
       "      <th>Name</th>\n",
       "      <th>Address</th>\n",
       "      <th>Tel</th>\n",
       "    </tr>\n",
       "  </thead>\n",
       "  <tbody>\n",
       "    <tr>\n",
       "      <th>0</th>\n",
       "      <td>삼성봉은사거리점</td>\n",
       "      <td>서울시 강남구 영동대로 607 1,2층</td>\n",
       "      <td>02-3443-5618</td>\n",
       "    </tr>\n",
       "    <tr>\n",
       "      <th>1</th>\n",
       "      <td>코엑스웨스틴서울점</td>\n",
       "      <td>서울시 강남구 봉은사로 524 코엑스 인터컨티넨탈아케이드</td>\n",
       "      <td>02-569-3103</td>\n",
       "    </tr>\n",
       "    <tr>\n",
       "      <th>2</th>\n",
       "      <td>삼성오크우드점</td>\n",
       "      <td>서울 강남구 테헤란로87길 46 지하 2층</td>\n",
       "      <td>02-3466-8507</td>\n",
       "    </tr>\n",
       "    <tr>\n",
       "      <th>3</th>\n",
       "      <td>삼성봉은사로점</td>\n",
       "      <td>서울시 강남구 봉은사로 628 엘슨빌딩1층</td>\n",
       "      <td>02-538-4523</td>\n",
       "    </tr>\n",
       "    <tr>\n",
       "      <th>4</th>\n",
       "      <td>도심공항타워점</td>\n",
       "      <td>서울시 강남구 테헤란로87길 36 공항타워 1층</td>\n",
       "      <td>02-2016-5330</td>\n",
       "    </tr>\n",
       "    <tr>\n",
       "      <th>...</th>\n",
       "      <td>...</td>\n",
       "      <td>...</td>\n",
       "      <td>...</td>\n",
       "    </tr>\n",
       "    <tr>\n",
       "      <th>208</th>\n",
       "      <td>강동경희대병원앞점</td>\n",
       "      <td>서울특별시 강동구 동남로 885 양지빌딩 1층</td>\n",
       "      <td>02-481-9938</td>\n",
       "    </tr>\n",
       "    <tr>\n",
       "      <th>209</th>\n",
       "      <td>새문안로점</td>\n",
       "      <td>서울특별시 종로구 새문안로 91 고려빌딩 1,2층</td>\n",
       "      <td>02-739-5806</td>\n",
       "    </tr>\n",
       "    <tr>\n",
       "      <th>210</th>\n",
       "      <td>광화문역1번출구점</td>\n",
       "      <td>서울시 종로구 새문안로5가길 7 1층 일부</td>\n",
       "      <td>02-723-3360</td>\n",
       "    </tr>\n",
       "    <tr>\n",
       "      <th>211</th>\n",
       "      <td>성균관대법학관점</td>\n",
       "      <td>서울시 종로구 성균관로 25-2 성균관대학교 법학관 B2</td>\n",
       "      <td>02-740-1958</td>\n",
       "    </tr>\n",
       "    <tr>\n",
       "      <th>212</th>\n",
       "      <td>경희궁의아침점</td>\n",
       "      <td>서울시 종로구 새문안로3길 23 경희궁아침상가4단지105외</td>\n",
       "      <td>02-730-8896</td>\n",
       "    </tr>\n",
       "  </tbody>\n",
       "</table>\n",
       "<p>213 rows × 3 columns</p>\n",
       "</div>"
      ],
      "text/plain": [
       "          Name                           Address           Tel\n",
       "0     삼성봉은사거리점             서울시 강남구 영동대로 607 1,2층  02-3443-5618\n",
       "1    코엑스웨스틴서울점   서울시 강남구 봉은사로 524 코엑스 인터컨티넨탈아케이드   02-569-3103\n",
       "2      삼성오크우드점           서울 강남구 테헤란로87길 46 지하 2층  02-3466-8507\n",
       "3      삼성봉은사로점           서울시 강남구 봉은사로 628 엘슨빌딩1층   02-538-4523\n",
       "4      도심공항타워점        서울시 강남구 테헤란로87길 36 공항타워 1층  02-2016-5330\n",
       "..         ...                               ...           ...\n",
       "208  강동경희대병원앞점         서울특별시 강동구 동남로 885 양지빌딩 1층   02-481-9938\n",
       "209      새문안로점       서울특별시 종로구 새문안로 91 고려빌딩 1,2층   02-739-5806\n",
       "210  광화문역1번출구점           서울시 종로구 새문안로5가길 7 1층 일부   02-723-3360\n",
       "211   성균관대법학관점   서울시 종로구 성균관로 25-2 성균관대학교 법학관 B2   02-740-1958\n",
       "212    경희궁의아침점  서울시 종로구 새문안로3길 23 경희궁아침상가4단지105외   02-730-8896\n",
       "\n",
       "[213 rows x 3 columns]"
      ]
     },
     "execution_count": 75,
     "metadata": {},
     "output_type": "execute_result"
    }
   ],
   "source": [
    "df = pd.read_csv('커피빈매장.csv')\n",
    "df"
   ]
  },
  {
   "cell_type": "code",
   "execution_count": 76,
   "id": "2c5d771b",
   "metadata": {},
   "outputs": [],
   "source": [
    "import requests\n",
    "import numpy as np\n",
    "\n",
    "def get_location(address):\n",
    "    url = 'https://dapi.kakao.com/v2/local/search/address.json?query='+address\n",
    "    headers = {'Authorization':'KakaoAK e80cbc693d356aa131bc7ad0f62699da'}\n",
    "    res = requests.get(url, headers=headers).json()\n",
    "    if res['documents']:\n",
    "        x = res['documents'][0]['x']\n",
    "        y = res['documents'][0]['y']\n",
    "        \n",
    "    else:\n",
    "        x = np.nan\n",
    "        y = np.nan\n",
    "    return x, y"
   ]
  },
  {
   "cell_type": "code",
   "execution_count": 77,
   "id": "dd96c45e",
   "metadata": {},
   "outputs": [
    {
     "data": {
      "text/plain": [
       "('127.059486615422', '37.5145473024381')"
      ]
     },
     "execution_count": 77,
     "metadata": {},
     "output_type": "execute_result"
    }
   ],
   "source": [
    "x, y = get_location('서울시 강남구 영동대로 607')\n",
    "x, y"
   ]
  },
  {
   "cell_type": "code",
   "execution_count": 78,
   "id": "b29d80ef",
   "metadata": {},
   "outputs": [
    {
     "data": {
      "text/html": [
       "<div>\n",
       "<style scoped>\n",
       "    .dataframe tbody tr th:only-of-type {\n",
       "        vertical-align: middle;\n",
       "    }\n",
       "\n",
       "    .dataframe tbody tr th {\n",
       "        vertical-align: top;\n",
       "    }\n",
       "\n",
       "    .dataframe thead th {\n",
       "        text-align: right;\n",
       "    }\n",
       "</style>\n",
       "<table border=\"1\" class=\"dataframe\">\n",
       "  <thead>\n",
       "    <tr style=\"text-align: right;\">\n",
       "      <th></th>\n",
       "      <th>Name</th>\n",
       "      <th>Address</th>\n",
       "      <th>Tel</th>\n",
       "      <th>x</th>\n",
       "      <th>y</th>\n",
       "    </tr>\n",
       "  </thead>\n",
       "  <tbody>\n",
       "    <tr>\n",
       "      <th>0</th>\n",
       "      <td>삼성봉은사거리점</td>\n",
       "      <td>서울시 강남구 영동대로 607 1,2층</td>\n",
       "      <td>02-3443-5618</td>\n",
       "      <td></td>\n",
       "      <td></td>\n",
       "    </tr>\n",
       "    <tr>\n",
       "      <th>1</th>\n",
       "      <td>코엑스웨스틴서울점</td>\n",
       "      <td>서울시 강남구 봉은사로 524 코엑스 인터컨티넨탈아케이드</td>\n",
       "      <td>02-569-3103</td>\n",
       "      <td></td>\n",
       "      <td></td>\n",
       "    </tr>\n",
       "  </tbody>\n",
       "</table>\n",
       "</div>"
      ],
      "text/plain": [
       "        Name                          Address           Tel x y\n",
       "0   삼성봉은사거리점            서울시 강남구 영동대로 607 1,2층  02-3443-5618    \n",
       "1  코엑스웨스틴서울점  서울시 강남구 봉은사로 524 코엑스 인터컨티넨탈아케이드   02-569-3103    "
      ]
     },
     "execution_count": 78,
     "metadata": {},
     "output_type": "execute_result"
    }
   ],
   "source": [
    "store = pd.read_csv('커피빈매장.csv')\n",
    "store['x'] = ''\n",
    "store['y'] = ''\n",
    "store.head(2)"
   ]
  },
  {
   "cell_type": "code",
   "execution_count": 79,
   "id": "863d8762",
   "metadata": {},
   "outputs": [],
   "source": [
    "for i in store.index:\n",
    "    address = store.loc[i, 'Address']\n",
    "    x, y = get_location(address)\n",
    "    store.loc[i, 'x'] = x\n",
    "    store.loc[i, 'y'] = y"
   ]
  },
  {
   "cell_type": "code",
   "execution_count": 80,
   "id": "01ad07a0",
   "metadata": {},
   "outputs": [
    {
     "data": {
      "text/plain": [
       "Name        0\n",
       "Address     0\n",
       "Tel         0\n",
       "x          19\n",
       "y          19\n",
       "dtype: int64"
      ]
     },
     "execution_count": 80,
     "metadata": {},
     "output_type": "execute_result"
    }
   ],
   "source": [
    "store.isnull().sum()"
   ]
  },
  {
   "cell_type": "code",
   "execution_count": 81,
   "id": "693eaa6c",
   "metadata": {},
   "outputs": [
    {
     "data": {
      "text/plain": [
       "Name       0\n",
       "Address    0\n",
       "Tel        0\n",
       "x          0\n",
       "y          0\n",
       "dtype: int64"
      ]
     },
     "execution_count": 81,
     "metadata": {},
     "output_type": "execute_result"
    }
   ],
   "source": [
    "store.dropna(inplace=True)\n",
    "store.isnull().sum()"
   ]
  },
  {
   "cell_type": "code",
   "execution_count": 82,
   "id": "5988c8be",
   "metadata": {},
   "outputs": [
    {
     "data": {
      "text/html": [
       "<div>\n",
       "<style scoped>\n",
       "    .dataframe tbody tr th:only-of-type {\n",
       "        vertical-align: middle;\n",
       "    }\n",
       "\n",
       "    .dataframe tbody tr th {\n",
       "        vertical-align: top;\n",
       "    }\n",
       "\n",
       "    .dataframe thead th {\n",
       "        text-align: right;\n",
       "    }\n",
       "</style>\n",
       "<table border=\"1\" class=\"dataframe\">\n",
       "  <thead>\n",
       "    <tr style=\"text-align: right;\">\n",
       "      <th></th>\n",
       "      <th>Name</th>\n",
       "      <th>Address</th>\n",
       "      <th>Tel</th>\n",
       "      <th>x</th>\n",
       "      <th>y</th>\n",
       "    </tr>\n",
       "  </thead>\n",
       "  <tbody>\n",
       "    <tr>\n",
       "      <th>1</th>\n",
       "      <td>코엑스웨스틴서울점</td>\n",
       "      <td>서울시 강남구 봉은사로 524 코엑스 인터컨티넨탈아케이드</td>\n",
       "      <td>02-569-3103</td>\n",
       "      <td>127.057115600619</td>\n",
       "      <td>37.5129534255276</td>\n",
       "    </tr>\n",
       "    <tr>\n",
       "      <th>2</th>\n",
       "      <td>삼성오크우드점</td>\n",
       "      <td>서울 강남구 테헤란로87길 46 지하 2층</td>\n",
       "      <td>02-3466-8507</td>\n",
       "      <td>127.058205573267</td>\n",
       "      <td>37.5109823973192</td>\n",
       "    </tr>\n",
       "    <tr>\n",
       "      <th>3</th>\n",
       "      <td>삼성봉은사로점</td>\n",
       "      <td>서울시 강남구 봉은사로 628 엘슨빌딩1층</td>\n",
       "      <td>02-538-4523</td>\n",
       "      <td>127.064164448221</td>\n",
       "      <td>37.5146694627537</td>\n",
       "    </tr>\n",
       "    <tr>\n",
       "      <th>4</th>\n",
       "      <td>도심공항타워점</td>\n",
       "      <td>서울시 강남구 테헤란로87길 36 공항타워 1층</td>\n",
       "      <td>02-2016-5330</td>\n",
       "      <td>127.058597240146</td>\n",
       "      <td>37.5102336492314</td>\n",
       "    </tr>\n",
       "    <tr>\n",
       "      <th>5</th>\n",
       "      <td>트레이드타워점</td>\n",
       "      <td>서울시 강남구 영동대로 511 트레이드타워 지하1층</td>\n",
       "      <td>02-803-9994</td>\n",
       "      <td>127.061023782931</td>\n",
       "      <td>37.510356849269</td>\n",
       "    </tr>\n",
       "  </tbody>\n",
       "</table>\n",
       "</div>"
      ],
      "text/plain": [
       "        Name                          Address           Tel                 x  \\\n",
       "1  코엑스웨스틴서울점  서울시 강남구 봉은사로 524 코엑스 인터컨티넨탈아케이드   02-569-3103  127.057115600619   \n",
       "2    삼성오크우드점          서울 강남구 테헤란로87길 46 지하 2층  02-3466-8507  127.058205573267   \n",
       "3    삼성봉은사로점          서울시 강남구 봉은사로 628 엘슨빌딩1층   02-538-4523  127.064164448221   \n",
       "4    도심공항타워점       서울시 강남구 테헤란로87길 36 공항타워 1층  02-2016-5330  127.058597240146   \n",
       "5    트레이드타워점     서울시 강남구 영동대로 511 트레이드타워 지하1층   02-803-9994  127.061023782931   \n",
       "\n",
       "                  y  \n",
       "1  37.5129534255276  \n",
       "2  37.5109823973192  \n",
       "3  37.5146694627537  \n",
       "4  37.5102336492314  \n",
       "5   37.510356849269  "
      ]
     },
     "execution_count": 82,
     "metadata": {},
     "output_type": "execute_result"
    }
   ],
   "source": [
    "store.head(5)"
   ]
  },
  {
   "cell_type": "code",
   "execution_count": 83,
   "id": "2bca65ea",
   "metadata": {},
   "outputs": [],
   "source": [
    "store.to_csv('커피빈맵.csv', index=False)"
   ]
  },
  {
   "cell_type": "code",
   "execution_count": 84,
   "id": "ebc1e10f",
   "metadata": {},
   "outputs": [
    {
     "name": "stdout",
     "output_type": "stream",
     "text": [
      "<class 'pandas.core.frame.DataFrame'>\n",
      "RangeIndex: 194 entries, 0 to 193\n",
      "Data columns (total 5 columns):\n",
      " #   Column   Non-Null Count  Dtype  \n",
      "---  ------   --------------  -----  \n",
      " 0   Name     194 non-null    object \n",
      " 1   Address  194 non-null    object \n",
      " 2   Tel      194 non-null    object \n",
      " 3   x        194 non-null    float64\n",
      " 4   y        194 non-null    float64\n",
      "dtypes: float64(2), object(3)\n",
      "memory usage: 7.7+ KB\n"
     ]
    }
   ],
   "source": [
    "store = pd.read_csv('커피빈맵.csv')\n",
    "store.info()"
   ]
  },
  {
   "cell_type": "code",
   "execution_count": 85,
   "id": "836fd14b",
   "metadata": {},
   "outputs": [
    {
     "name": "stdout",
     "output_type": "stream",
     "text": [
      "<class 'pandas.core.frame.DataFrame'>\n",
      "Index: 5 entries, 21 to 53\n",
      "Data columns (total 5 columns):\n",
      " #   Column   Non-Null Count  Dtype  \n",
      "---  ------   --------------  -----  \n",
      " 0   Name     5 non-null      object \n",
      " 1   Address  5 non-null      object \n",
      " 2   Tel      5 non-null      object \n",
      " 3   x        5 non-null      float64\n",
      " 4   y        5 non-null      float64\n",
      "dtypes: float64(2), object(3)\n",
      "memory usage: 240.0+ bytes\n"
     ]
    }
   ],
   "source": [
    "address = '서울시 마포구'\n",
    "filt = store['Address'].str.contains(address)\n",
    "df = store[filt]\n",
    "df.info()"
   ]
  },
  {
   "cell_type": "code",
   "execution_count": 92,
   "id": "9f513657",
   "metadata": {},
   "outputs": [],
   "source": [
    "import folium\n",
    "import warnings\n",
    "warnings.filterwarnings(action='ignore')\n",
    "\n",
    "def get_map(address):\n",
    "    filt = store['Address'].str.contains(address)\n",
    "    df = store[filt]\n",
    "    if len(df.index) == 0:\n",
    "        print('찾을 수 없습니다.')\n",
    "    else:\n",
    "        first = df.head(1)\n",
    "        x = first['x']\n",
    "        y = first['y']\n",
    "        map = folium.Map(location=[y, x], zoom_start=15)\n",
    "        for idx, row in df.iterrows():\n",
    "            name = row['Name']\n",
    "            x = row['x']\n",
    "            y = row['y']\n",
    "            folium.Marker(location=[y, x], \n",
    "                          popup=folium.Popup(f'[{idx}],{name}', max_width=200), \n",
    "                          icon=folium.Icon(icon = 'star')).add_to(map)\n",
    "        map.save(f'{address}.html')\n",
    "\n",
    "get_map('상암')"
   ]
  }
 ],
 "metadata": {
  "kernelspec": {
   "display_name": "Python 3",
   "language": "python",
   "name": "python3"
  },
  "language_info": {
   "codemirror_mode": {
    "name": "ipython",
    "version": 3
   },
   "file_extension": ".py",
   "mimetype": "text/x-python",
   "name": "python",
   "nbconvert_exporter": "python",
   "pygments_lexer": "ipython3",
   "version": "3.10.10"
  }
 },
 "nbformat": 4,
 "nbformat_minor": 5
}
